{
  "nbformat": 4,
  "nbformat_minor": 0,
  "metadata": {
    "colab": {
      "provenance": []
    },
    "kernelspec": {
      "name": "python3",
      "display_name": "Python 3"
    },
    "language_info": {
      "name": "python"
    }
  },
  "cells": [
    {
      "cell_type": "code",
      "source": [
        "visitantes = (input(\"Digite o número total de visitantes: \"))\n",
        "conversoes = (input(\"Digite o número de conversões: \"))"
      ],
      "metadata": {
        "colab": {
          "base_uri": "https://localhost:8080/"
        },
        "id": "r4sQQWd2wsdC",
        "outputId": "d7440e75-6634-4693-a7e0-969f002a7d81"
      },
      "execution_count": 14,
      "outputs": [
        {
          "name": "stdout",
          "output_type": "stream",
          "text": [
            "Digite o número total de visitantes: 100\n",
            "Digite o número de conversões: 10\n"
          ]
        }
      ]
    },
    {
      "cell_type": "code",
      "source": [
        "visitantes_float = float(visitantes)\n",
        "print('Visitantes Float', visitantes_float)\n",
        "conversoes_float = float(conversoes)\n",
        "print('Conversoes Float', conversoes_float)"
      ],
      "metadata": {
        "colab": {
          "base_uri": "https://localhost:8080/"
        },
        "id": "N8v02c1k2E0f",
        "outputId": "8880cf1e-d17d-4cd9-fe36-fadcf704dd23"
      },
      "execution_count": 18,
      "outputs": [
        {
          "output_type": "stream",
          "name": "stdout",
          "text": [
            "Visitantes Float 100.0\n",
            "Conversoes Float 10.0\n"
          ]
        }
      ]
    },
    {
      "cell_type": "code",
      "source": [
        "soma = visitantes + conversoes\n",
        "subtracao = visitantes - conversoes\n",
        "multiplicacao = visitantes * conversoes\n",
        "divisao = conversoes / visitantes\n",
        "print(\"Soma de visitantes e conversões:\", soma)\n",
        "print(\"Subtração de visitantes e conversões:\", subtracao)\n",
        "print(\"Multiplicação de visitantes e conversões:\", multiplicacao)\n",
        "print(\"Divisão de conversões e visitantes:\", divisao)"
      ],
      "metadata": {
        "colab": {
          "base_uri": "https://localhost:8080/"
        },
        "id": "R9CHFWmezbox",
        "outputId": "41a032dd-04a9-47a7-d8c7-93b77379856b"
      },
      "execution_count": 13,
      "outputs": [
        {
          "output_type": "stream",
          "name": "stdout",
          "text": [
            "Soma de visitantes e conversões: 110\n",
            "Subtração de visitantes e conversões: 90\n",
            "Multiplicação de visitantes e conversões: 1000\n",
            "Divisão de conversões e visitantes: 0.1\n"
          ]
        }
      ]
    },
    {
      "cell_type": "code",
      "source": [
        "if visitantes > conversoes:\n",
        "  print('visitantes é o número maior')\n",
        "\n",
        "elif visitantes < conversoes:\n",
        "  print('conversoes é o número maior')\n",
        "\n",
        "else:\n",
        "  print('os dois são iguais')"
      ],
      "metadata": {
        "colab": {
          "base_uri": "https://localhost:8080/"
        },
        "id": "iqtLlJx91E5D",
        "outputId": "e9bcd86d-de4d-4b77-f73d-2c23ee726e8c"
      },
      "execution_count": 20,
      "outputs": [
        {
          "output_type": "stream",
          "name": "stdout",
          "text": [
            "visitantes é o número maior\n"
          ]
        }
      ]
    }
  ]
}